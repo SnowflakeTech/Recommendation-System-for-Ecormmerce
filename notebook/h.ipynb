{
 "cells": [
  {
   "cell_type": "code",
   "execution_count": 1,
   "id": "91cf41c1",
   "metadata": {},
   "outputs": [],
   "source": [
    "from __future__ import annotations\n",
    "\n",
    "\n",
    "import argparse\n",
    "import datetime as dt\n",
    "import logging\n",
    "import os\n",
    "from dataclasses import dataclass\n",
    "from pathlib import Path\n",
    "from typing import Dict, Iterable, List, Optional, Tuple\n",
    "\n",
    "\n",
    "import numpy as np\n",
    "import pandas as pd\n",
    "from scipy import sparse\n",
    "from sklearn.decomposition import TruncatedSVD\n",
    "from sklearn.feature_extraction.text import TfidfVectorizer\n",
    "from sklearn.metrics.pairwise import cosine_similarity\n",
    "from sklearn.preprocessing import LabelEncoder, MinMaxScaler"
   ]
  },
  {
   "cell_type": "code",
   "execution_count": 2,
   "id": "2eff639c",
   "metadata": {},
   "outputs": [],
   "source": [
    "# -----------------------------------------------------------------------------\n",
    "# Logging\n",
    "# -----------------------------------------------------------------------------\n",
    "\n",
    "\n",
    "logging.basicConfig(\n",
    "level=logging.INFO,\n",
    "format=\"%(asctime)s [%(levelname)s] %(message)s\",\n",
    ")\n",
    "LOGGER = logging.getLogger(__name__)"
   ]
  },
  {
   "cell_type": "code",
   "execution_count": null,
   "id": "78e3c7a7",
   "metadata": {},
   "outputs": [],
   "source": [
    "# -----------------------------------------------------------------------------\n",
    "# Data Loading & Basic Cleaning\n",
    "# -----------------------------------------------------------------------------\n",
    "\n",
    "\n",
    "EXPECTED_STUCK_COLS = [\n",
    "\"OrderGroupId CustomerId\",\n",
    "\"MarketId LineItemId\",\n",
    "\"Epi_TaxCategoryId OrderCount\",\n",
    "]\n",
    "\n",
    "\n",
    "def load_raw_dataframe(file_path: Path) -> pd.DataFrame:\n",
    "\t\"\"\"Load the raw file (fixed-width or CSV fallback) with safety checks.\n",
    "\n",
    "\tTries read_fwf first to match the original notebook; if that fails, falls\n",
    "\tback to read_csv.\n",
    "\t\"\"\"\n",
    "\tif not file_path.exists():\n",
    "\t\traise FileNotFoundError(\n",
    "\t\t\tf\"File not found: {file_path}. Please check the path and ensure the file exists.\"\n",
    "\t\t)\n",
    "\n",
    "\ttry:\n",
    "\t\tdf_raw = pd.read_fwf(file_path, encoding=\"utf-8\")\n",
    "\t\tif df_raw.shape[1] <= 1:  # heuristics: FWF sometimes collapses\n",
    "\t\t\traise ValueError(\"FWF produced single column; falling back to CSV.\")\n",
    "\t\tLOGGER.info(\"Loaded data via read_fwf: %s rows, %s cols\", *df_raw.shape)\n",
    "\t\treturn df_raw\n",
    "\texcept Exception as exc:  # noqa: BLE001\n",
    "\t\tLOGGER.warning(\"read_fwf failed (%s). Falling back to read_csv...\", exc)\n",
    "\t\tdf_raw = pd.read_csv(file_path)\n",
    "\t\tLOGGER.info(\"Loaded data via read_csv: %s rows, %s cols\", *df_raw.shape)\n",
    "\t\treturn df_raw"
   ]
  }
 ],
 "metadata": {
  "kernelspec": {
   "display_name": "base",
   "language": "python",
   "name": "python3"
  },
  "language_info": {
   "codemirror_mode": {
    "name": "ipython",
    "version": 3
   },
   "file_extension": ".py",
   "mimetype": "text/x-python",
   "name": "python",
   "nbconvert_exporter": "python",
   "pygments_lexer": "ipython3",
   "version": "3.12.9"
  }
 },
 "nbformat": 4,
 "nbformat_minor": 5
}
